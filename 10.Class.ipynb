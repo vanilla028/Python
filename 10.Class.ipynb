{
  "cells": [
    {
      "cell_type": "code",
      "execution_count": 35,
      "id": "6bf147d8",
      "metadata": {
        "id": "6bf147d8"
      },
      "outputs": [],
      "source": [
        "class MyClass:\n",
        "    pass"
      ]
    },
    {
      "cell_type": "code",
      "execution_count": 36,
      "id": "fe7c51e9",
      "metadata": {
        "colab": {
          "base_uri": "https://localhost:8080/"
        },
        "id": "fe7c51e9",
        "outputId": "f719271a-0e0d-4184-85a0-e36fc45202ee"
      },
      "outputs": [
        {
          "output_type": "execute_result",
          "data": {
            "text/plain": [
              "__main__.MyClass"
            ]
          },
          "metadata": {},
          "execution_count": 36
        }
      ],
      "source": [
        "MyClass"
      ]
    },
    {
      "cell_type": "code",
      "execution_count": 37,
      "id": "054c4bb6",
      "metadata": {
        "colab": {
          "base_uri": "https://localhost:8080/"
        },
        "id": "054c4bb6",
        "outputId": "5253655d-1812-4963-b44b-e05b94f16b66"
      },
      "outputs": [
        {
          "output_type": "execute_result",
          "data": {
            "text/plain": [
              "type"
            ]
          },
          "metadata": {},
          "execution_count": 37
        }
      ],
      "source": [
        "type(MyClass)"
      ]
    },
    {
      "cell_type": "code",
      "execution_count": 38,
      "id": "7867ef94",
      "metadata": {
        "id": "7867ef94"
      },
      "outputs": [],
      "source": [
        "#설계 도면을 만드는 것\n",
        "class Person:\n",
        "    Name = 'Default Name'                            #--->property(속성)\n",
        "    \n",
        "    def Print(self):\n",
        "        print('My name is {0}'.format(self.Name))     #--->동작"
      ]
    },
    {
      "cell_type": "code",
      "execution_count": 39,
      "id": "4dc29fdf",
      "metadata": {
        "id": "4dc29fdf"
      },
      "outputs": [],
      "source": [
        "son = Person()"
      ]
    },
    {
      "cell_type": "code",
      "execution_count": 40,
      "id": "e79fb1e0",
      "metadata": {
        "colab": {
          "base_uri": "https://localhost:8080/"
        },
        "id": "e79fb1e0",
        "outputId": "03609e3a-cd6e-4022-d5d0-9f69f9919481"
      },
      "outputs": [
        {
          "output_type": "stream",
          "name": "stdout",
          "text": [
            "My name is 손흥민\n"
          ]
        }
      ],
      "source": [
        "son.Name = '손흥민'\n",
        "son.Print()"
      ]
    },
    {
      "cell_type": "code",
      "execution_count": 41,
      "id": "9e6ed963",
      "metadata": {
        "id": "9e6ed963"
      },
      "outputs": [],
      "source": [
        "p1 = Person()\n",
        "p2 = Person()"
      ]
    },
    {
      "cell_type": "code",
      "execution_count": 42,
      "id": "678061fc",
      "metadata": {
        "id": "678061fc"
      },
      "outputs": [],
      "source": [
        "p1.Name = '송중기'\n",
        "p2.Name = '박보영'"
      ]
    },
    {
      "cell_type": "code",
      "execution_count": 43,
      "id": "8b7a5f95",
      "metadata": {
        "colab": {
          "base_uri": "https://localhost:8080/"
        },
        "id": "8b7a5f95",
        "outputId": "8a28de57-b1c2-49bc-d999-b5ead303b6e9"
      },
      "outputs": [
        {
          "output_type": "stream",
          "name": "stdout",
          "text": [
            "My name is 송중기\n",
            "My name is 박보영\n"
          ]
        }
      ],
      "source": [
        "p1.Print()\n",
        "p2.Print()"
      ]
    },
    {
      "cell_type": "code",
      "execution_count": 44,
      "id": "9531cb4e",
      "metadata": {
        "id": "9531cb4e"
      },
      "outputs": [],
      "source": [
        "# instance\n",
        "\n",
        "Person.title = 'New title'"
      ]
    },
    {
      "cell_type": "code",
      "execution_count": 45,
      "id": "e31cfe02",
      "metadata": {
        "colab": {
          "base_uri": "https://localhost:8080/",
          "height": 35
        },
        "id": "e31cfe02",
        "outputId": "dda45bb1-1b34-43d2-d434-870e86221b33"
      },
      "outputs": [
        {
          "output_type": "execute_result",
          "data": {
            "text/plain": [
              "'New title'"
            ],
            "application/vnd.google.colaboratory.intrinsic+json": {
              "type": "string"
            }
          },
          "metadata": {},
          "execution_count": 45
        }
      ],
      "source": [
        "p1.title"
      ]
    },
    {
      "cell_type": "code",
      "execution_count": 46,
      "id": "c436eab3",
      "metadata": {
        "id": "c436eab3"
      },
      "outputs": [],
      "source": [
        "p1.age = 20"
      ]
    },
    {
      "cell_type": "code",
      "execution_count": 47,
      "id": "20fa3e16",
      "metadata": {
        "colab": {
          "base_uri": "https://localhost:8080/"
        },
        "id": "20fa3e16",
        "outputId": "60c9c1f9-e3b3-4b37-e289-81d3f1b78d1f"
      },
      "outputs": [
        {
          "output_type": "execute_result",
          "data": {
            "text/plain": [
              "20"
            ]
          },
          "metadata": {},
          "execution_count": 47
        }
      ],
      "source": [
        "p1.age"
      ]
    },
    {
      "cell_type": "code",
      "execution_count": 48,
      "id": "d201fbe8",
      "metadata": {
        "id": "d201fbe8"
      },
      "outputs": [],
      "source": [
        "# 클래스의 상속\n",
        "\n",
        "class Person:\n",
        "    pass"
      ]
    },
    {
      "cell_type": "code",
      "execution_count": 49,
      "id": "3db4fcaf",
      "metadata": {
        "id": "3db4fcaf"
      },
      "outputs": [],
      "source": [
        "class Bird:\n",
        "    pass"
      ]
    },
    {
      "cell_type": "code",
      "execution_count": 50,
      "id": "d1f85dde",
      "metadata": {
        "id": "d1f85dde"
      },
      "outputs": [],
      "source": [
        "class Student(Person):    # Student는 Person에서부터 상속받았다\n",
        "    pass"
      ]
    },
    {
      "cell_type": "code",
      "execution_count": 51,
      "id": "842b746c",
      "metadata": {
        "id": "842b746c"
      },
      "outputs": [],
      "source": [
        "p = Person()    # p는 Person에서 만든 인스턴스\n",
        "s = Student()    # s는 Student에서 만든 인스턴스"
      ]
    },
    {
      "cell_type": "code",
      "execution_count": 52,
      "id": "71cc0c22",
      "metadata": {
        "colab": {
          "base_uri": "https://localhost:8080/"
        },
        "id": "71cc0c22",
        "outputId": "142a58bc-8a38-4ca0-8155-69ef5cb0d552"
      },
      "outputs": [
        {
          "output_type": "execute_result",
          "data": {
            "text/plain": [
              "True"
            ]
          },
          "metadata": {},
          "execution_count": 52
        }
      ],
      "source": [
        "isinstance(p, Person)"
      ]
    },
    {
      "cell_type": "code",
      "execution_count": 53,
      "id": "7738d34b",
      "metadata": {
        "colab": {
          "base_uri": "https://localhost:8080/"
        },
        "id": "7738d34b",
        "outputId": "a304b0f4-1879-4512-aff1-de5a0d419ce9"
      },
      "outputs": [
        {
          "output_type": "execute_result",
          "data": {
            "text/plain": [
              "True"
            ]
          },
          "metadata": {},
          "execution_count": 53
        }
      ],
      "source": [
        "isinstance(s, Person)"
      ]
    },
    {
      "cell_type": "code",
      "execution_count": 54,
      "id": "56403c37",
      "metadata": {
        "colab": {
          "base_uri": "https://localhost:8080/"
        },
        "id": "56403c37",
        "outputId": "a54e599d-20da-4ff7-8bb7-49ad3ec689d9"
      },
      "outputs": [
        {
          "output_type": "execute_result",
          "data": {
            "text/plain": [
              "True"
            ]
          },
          "metadata": {},
          "execution_count": 54
        }
      ],
      "source": [
        "isinstance(s, object)"
      ]
    },
    {
      "cell_type": "code",
      "execution_count": 55,
      "id": "608e3887",
      "metadata": {
        "colab": {
          "base_uri": "https://localhost:8080/"
        },
        "id": "608e3887",
        "outputId": "8a6594f3-8dcb-4d51-d40e-fa477f20bd1c"
      },
      "outputs": [
        {
          "output_type": "execute_result",
          "data": {
            "text/plain": [
              "False"
            ]
          },
          "metadata": {},
          "execution_count": 55
        }
      ],
      "source": [
        "isinstance(p, Bird)"
      ]
    },
    {
      "cell_type": "code",
      "execution_count": 56,
      "id": "b16e7d9b",
      "metadata": {
        "id": "b16e7d9b"
      },
      "outputs": [],
      "source": [
        "# 생성자, 소멸자\n",
        "\n",
        "class MyClass:\n",
        "    # 생성자 #value는 변수이름. 다른 걸로 해도 됨\n",
        "    def __init__(self, value):\n",
        "        self.Value = value\n",
        "        print('Class is created! Value = ', value)\n",
        "        \n",
        "    # 소멸자\n",
        "    def __del__(self):\n",
        "        print('Class is deleted')"
      ]
    },
    {
      "cell_type": "code",
      "execution_count": 57,
      "id": "637e6ae9",
      "metadata": {
        "colab": {
          "base_uri": "https://localhost:8080/"
        },
        "id": "637e6ae9",
        "outputId": "dc87a5bd-ec71-429b-95cc-02feeee51e96"
      },
      "outputs": [
        {
          "output_type": "stream",
          "name": "stdout",
          "text": [
            "Class is created! Value =  10\n"
          ]
        }
      ],
      "source": [
        "m = MyClass(10)"
      ]
    },
    {
      "cell_type": "code",
      "execution_count": 58,
      "id": "ac5a2dbb",
      "metadata": {
        "colab": {
          "base_uri": "https://localhost:8080/"
        },
        "id": "ac5a2dbb",
        "outputId": "b4539858-42a9-4cc2-9168-6d48bcedfa35"
      },
      "outputs": [
        {
          "output_type": "stream",
          "name": "stdout",
          "text": [
            "Class is deleted\n"
          ]
        }
      ],
      "source": [
        "del m"
      ]
    },
    {
      "cell_type": "code",
      "execution_count": 59,
      "id": "c547e527",
      "metadata": {
        "id": "c547e527"
      },
      "outputs": [],
      "source": [
        "# 정적 메소드\n",
        "\n",
        "class CounterManager:\n",
        "    insCount= 0\n",
        "    \n",
        "    def __init__(self):\n",
        "        CounterManager.insCount += 1\n",
        "    \n",
        "    def printInstanceCount():\n",
        "        print('Instance Count:', CounterManager.insCount)"
      ]
    },
    {
      "cell_type": "code",
      "execution_count": 60,
      "id": "c4d18407",
      "metadata": {
        "id": "c4d18407"
      },
      "outputs": [],
      "source": [
        "# a = CounterManager()\n",
        "# b = CounterManager()\n",
        "# c = CounterManager()\n",
        "\n",
        "a, b, c = CounterManager(), CounterManager(), CounterManager()"
      ]
    },
    {
      "cell_type": "code",
      "execution_count": 61,
      "id": "fa1c5bbf",
      "metadata": {
        "colab": {
          "base_uri": "https://localhost:8080/"
        },
        "id": "fa1c5bbf",
        "outputId": "0447dda3-e392-4edc-bbf5-823714ecc765"
      },
      "outputs": [
        {
          "output_type": "stream",
          "name": "stdout",
          "text": [
            "Instance Count: 3\n"
          ]
        }
      ],
      "source": [
        "CounterManager.printInstanceCount()"
      ]
    },
    {
      "cell_type": "code",
      "execution_count": 62,
      "id": "8dbca9e7",
      "metadata": {
        "id": "8dbca9e7"
      },
      "outputs": [],
      "source": [
        "# 상속의 확장\n",
        "\n",
        "class Person:\n",
        "    def __init__(self, name, phone):\n",
        "        self.Name = name\n",
        "        self.Phone = phone\n",
        "        \n",
        "    def PrintInfo(self):\n",
        "        print('Info(Name: {0}, Phone: {1})'.format(self.Name, self.Phone))\n",
        "    \n",
        "    def PrintPersonData(self):\n",
        "        print('Person(Name: {0}, Phone: {1})'.format(self.Name, self.Phone))\n",
        "        "
      ]
    },
    {
      "cell_type": "code",
      "execution_count": 63,
      "id": "ce212363",
      "metadata": {
        "id": "ce212363"
      },
      "outputs": [],
      "source": [
        "class Student(Person):\n",
        "    \n",
        "    def __init__(self, name, phone, subject, studentID):\n",
        "        self.Name = name\n",
        "        self.Phone = phone\n",
        "        self.Subject = subject\n",
        "        self.Student = studentID\n",
        "        "
      ]
    },
    {
      "cell_type": "code",
      "execution_count": 64,
      "id": "6444c654",
      "metadata": {
        "id": "6444c654"
      },
      "outputs": [],
      "source": [
        "p = Person('IU', '010-0000-0000')\n",
        "s = Student('MinA', '010-111-1111', 'Computer Science', '00000')"
      ]
    },
    {
      "cell_type": "code",
      "execution_count": 65,
      "id": "641e65b7",
      "metadata": {
        "colab": {
          "base_uri": "https://localhost:8080/"
        },
        "id": "641e65b7",
        "outputId": "50bfe8b9-f3a3-480f-d06c-e1ed27821ea1"
      },
      "outputs": [
        {
          "output_type": "execute_result",
          "data": {
            "text/plain": [
              "{'Name': 'IU', 'Phone': '010-0000-0000'}"
            ]
          },
          "metadata": {},
          "execution_count": 65
        }
      ],
      "source": [
        "p.__dict__  # 속성 확인"
      ]
    },
    {
      "cell_type": "code",
      "execution_count": 66,
      "id": "14165329",
      "metadata": {
        "colab": {
          "base_uri": "https://localhost:8080/"
        },
        "id": "14165329",
        "outputId": "07857094-655e-4a19-e898-16df74656383"
      },
      "outputs": [
        {
          "output_type": "execute_result",
          "data": {
            "text/plain": [
              "{'Name': 'MinA',\n",
              " 'Phone': '010-111-1111',\n",
              " 'Subject': 'Computer Science',\n",
              " 'Student': '00000'}"
            ]
          },
          "metadata": {},
          "execution_count": 66
        }
      ],
      "source": [
        "s.__dict__"
      ]
    },
    {
      "cell_type": "code",
      "execution_count": 67,
      "id": "d4386213",
      "metadata": {
        "colab": {
          "base_uri": "https://localhost:8080/"
        },
        "id": "d4386213",
        "outputId": "286384a5-1008-4fe8-b398-c8ff9b1d0559"
      },
      "outputs": [
        {
          "output_type": "stream",
          "name": "stdout",
          "text": [
            "Info(Name: IU, Phone: 010-0000-0000)\n"
          ]
        }
      ],
      "source": [
        "p.PrintInfo()"
      ]
    },
    {
      "cell_type": "code",
      "execution_count": 68,
      "id": "2bec13d3",
      "metadata": {
        "colab": {
          "base_uri": "https://localhost:8080/"
        },
        "id": "2bec13d3",
        "outputId": "d0ccc773-a0c7-47df-8eeb-855d80681955"
      },
      "outputs": [
        {
          "output_type": "stream",
          "name": "stdout",
          "text": [
            "Info(Name: MinA, Phone: 010-111-1111)\n"
          ]
        }
      ],
      "source": [
        "s.PrintInfo()"
      ]
    },
    {
      "cell_type": "code",
      "execution_count": 69,
      "id": "3a7736fa",
      "metadata": {
        "colab": {
          "base_uri": "https://localhost:8080/"
        },
        "id": "3a7736fa",
        "outputId": "f2b32792-2aa5-4f36-b5bc-88003ad5a44d"
      },
      "outputs": [
        {
          "output_type": "execute_result",
          "data": {
            "text/plain": [
              "True"
            ]
          },
          "metadata": {},
          "execution_count": 69
        }
      ],
      "source": [
        "# 상속 관계의 확인\n",
        "issubclass(Student, Person)"
      ]
    },
    {
      "cell_type": "code",
      "execution_count": 70,
      "id": "79443e83",
      "metadata": {
        "colab": {
          "base_uri": "https://localhost:8080/"
        },
        "id": "79443e83",
        "outputId": "1a207631-99d1-4b4d-d96c-65b76d88cdd1"
      },
      "outputs": [
        {
          "output_type": "execute_result",
          "data": {
            "text/plain": [
              "False"
            ]
          },
          "metadata": {},
          "execution_count": 70
        }
      ],
      "source": [
        "issubclass(Person, Student)"
      ]
    },
    {
      "cell_type": "code",
      "execution_count": 71,
      "id": "962b88c3",
      "metadata": {
        "id": "962b88c3"
      },
      "outputs": [],
      "source": [
        "# 다중 상속\n",
        "class Tiger:\n",
        "    def Jump(self):\n",
        "        print('Tiger Jump!!')"
      ]
    },
    {
      "cell_type": "code",
      "execution_count": 72,
      "id": "faaa71df",
      "metadata": {
        "id": "faaa71df"
      },
      "outputs": [],
      "source": [
        "class Lion:\n",
        "    def Bite(self):\n",
        "        print('Lion bite')"
      ]
    },
    {
      "cell_type": "code",
      "execution_count": 73,
      "id": "1c5e5a1f",
      "metadata": {
        "id": "1c5e5a1f"
      },
      "outputs": [],
      "source": [
        "class Liger(Tiger, Lion):            # 타이거와 리이거로부터 상속받음\n",
        "    def Play(self):\n",
        "        print('Liger player')"
      ]
    },
    {
      "cell_type": "code",
      "execution_count": 74,
      "id": "330c5f53",
      "metadata": {
        "id": "330c5f53"
      },
      "outputs": [],
      "source": [
        "l = Liger()"
      ]
    },
    {
      "cell_type": "code",
      "execution_count": 75,
      "id": "9f4d5283",
      "metadata": {
        "colab": {
          "base_uri": "https://localhost:8080/"
        },
        "id": "9f4d5283",
        "outputId": "040c0c88-1705-4086-9c24-7cd8d1755ccd"
      },
      "outputs": [
        {
          "output_type": "stream",
          "name": "stdout",
          "text": [
            "Liger player\n"
          ]
        }
      ],
      "source": [
        "l.Play()"
      ]
    },
    {
      "cell_type": "code",
      "execution_count": 76,
      "id": "fa95d8da",
      "metadata": {
        "colab": {
          "base_uri": "https://localhost:8080/"
        },
        "id": "fa95d8da",
        "outputId": "433552b6-186c-46c1-e6e9-e9e33646430d"
      },
      "outputs": [
        {
          "output_type": "stream",
          "name": "stdout",
          "text": [
            "Tiger Jump!!\n"
          ]
        }
      ],
      "source": [
        "l.Jump()"
      ]
    },
    {
      "cell_type": "code",
      "execution_count": 77,
      "id": "d1bb8a30",
      "metadata": {
        "colab": {
          "base_uri": "https://localhost:8080/"
        },
        "id": "d1bb8a30",
        "outputId": "e65d1cdc-c22d-4ea4-ceff-427afc4cae6a"
      },
      "outputs": [
        {
          "output_type": "stream",
          "name": "stdout",
          "text": [
            "Lion bite\n"
          ]
        }
      ],
      "source": [
        "l.Bite()"
      ]
    },
    {
      "cell_type": "code",
      "execution_count": 77,
      "id": "f3a85839",
      "metadata": {
        "id": "f3a85839"
      },
      "outputs": [],
      "source": []
    }
  ],
  "metadata": {
    "kernelspec": {
      "display_name": "Python 3 (ipykernel)",
      "language": "python",
      "name": "python3"
    },
    "language_info": {
      "codemirror_mode": {
        "name": "ipython",
        "version": 3
      },
      "file_extension": ".py",
      "mimetype": "text/x-python",
      "name": "python",
      "nbconvert_exporter": "python",
      "pygments_lexer": "ipython3",
      "version": "3.9.12"
    },
    "colab": {
      "provenance": []
    }
  },
  "nbformat": 4,
  "nbformat_minor": 5
}