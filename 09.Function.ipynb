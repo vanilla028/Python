{
 "cells": [
  {
   "cell_type": "code",
   "execution_count": 1,
   "id": "f609b345",
   "metadata": {},
   "outputs": [],
   "source": [
    "def returnName():\n",
    "    print('My name is MJ')"
   ]
  },
  {
   "cell_type": "code",
   "execution_count": 2,
   "id": "68ffacfc",
   "metadata": {},
   "outputs": [
    {
     "name": "stdout",
     "output_type": "stream",
     "text": [
      "My name is MJ\n"
     ]
    }
   ],
   "source": [
    "returnName()"
   ]
  },
  {
   "cell_type": "code",
   "execution_count": 5,
   "id": "fbfad93c",
   "metadata": {},
   "outputs": [],
   "source": [
    "#parameter 지정\n",
    "def returnName2(name):\n",
    "    print('My name is {}'.format(name))"
   ]
  },
  {
   "cell_type": "code",
   "execution_count": 6,
   "id": "f168fddf",
   "metadata": {},
   "outputs": [
    {
     "name": "stdout",
     "output_type": "stream",
     "text": [
      "My name is 성시경\n"
     ]
    }
   ],
   "source": [
    "returnName2('성시경')"
   ]
  },
  {
   "cell_type": "code",
   "execution_count": 8,
   "id": "7b109219",
   "metadata": {},
   "outputs": [],
   "source": [
    "def calc(a, b):\n",
    "    c = a * b\n",
    "    \n",
    "    return c"
   ]
  },
  {
   "cell_type": "code",
   "execution_count": 11,
   "id": "3dacb4d8",
   "metadata": {},
   "outputs": [
    {
     "data": {
      "text/plain": [
       "200"
      ]
     },
     "execution_count": 11,
     "metadata": {},
     "output_type": "execute_result"
    }
   ],
   "source": [
    "calc(10, 20)"
   ]
  },
  {
   "cell_type": "code",
   "execution_count": 12,
   "id": "98025256",
   "metadata": {},
   "outputs": [
    {
     "data": {
      "text/plain": [
       "500"
      ]
     },
     "execution_count": 12,
     "metadata": {},
     "output_type": "execute_result"
    }
   ],
   "source": [
    "calc(20, 25)"
   ]
  },
  {
   "cell_type": "code",
   "execution_count": 13,
   "id": "39740ab2",
   "metadata": {},
   "outputs": [
    {
     "data": {
      "text/plain": [
       "<function __main__.calc(a, b)>"
      ]
     },
     "execution_count": 13,
     "metadata": {},
     "output_type": "execute_result"
    }
   ],
   "source": [
    "calc"
   ]
  },
  {
   "cell_type": "code",
   "execution_count": 15,
   "id": "8a2bb63e",
   "metadata": {},
   "outputs": [
    {
     "data": {
      "text/plain": [
       "1689430588432"
      ]
     },
     "execution_count": 15,
     "metadata": {},
     "output_type": "execute_result"
    }
   ],
   "source": [
    "#메모리 확인할 때(디버깅하기 위해 가끔 필요)\n",
    "id(calc)"
   ]
  },
  {
   "cell_type": "code",
   "execution_count": null,
   "id": "d053cc56",
   "metadata": {},
   "outputs": [],
   "source": []
  }
 ],
 "metadata": {
  "kernelspec": {
   "display_name": "Python 3 (ipykernel)",
   "language": "python",
   "name": "python3"
  },
  "language_info": {
   "codemirror_mode": {
    "name": "ipython",
    "version": 3
   },
   "file_extension": ".py",
   "mimetype": "text/x-python",
   "name": "python",
   "nbconvert_exporter": "python",
   "pygments_lexer": "ipython3",
   "version": "3.9.12"
  }
 },
 "nbformat": 4,
 "nbformat_minor": 5
}
