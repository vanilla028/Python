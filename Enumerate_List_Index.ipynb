{
  "nbformat": 4,
  "nbformat_minor": 0,
  "metadata": {
    "colab": {
      "provenance": []
    },
    "kernelspec": {
      "name": "python3",
      "display_name": "Python 3"
    },
    "language_info": {
      "name": "python"
    }
  },
  "cells": [
    {
      "cell_type": "code",
      "source": [
        "# enumerate: 순서와 리스트의 값을 반환하는 기능\n",
        "mylist = ['Korean', 'English', 'Math', 'Science', 'Politics']\n",
        "\n",
        "for number, name in enumerate(mylist):\n",
        "    print(\"- Course: {}, Number: {}\".format(name, number))"
      ],
      "metadata": {
        "colab": {
          "base_uri": "https://localhost:8080/"
        },
        "id": "GhW2LOXsEqgD",
        "outputId": "95fdb9ca-f00b-4fa4-ca01-b06ab26f7131"
      },
      "execution_count": 15,
      "outputs": [
        {
          "output_type": "stream",
          "name": "stdout",
          "text": [
            "- Course: Korean, Number: 0\n",
            "- Course: English, Number: 1\n",
            "- Course: Math, Number: 2\n",
            "- Course: Science, Number: 3\n",
            "- Course: Politics, Number: 4\n"
          ]
        }
      ]
    },
    {
      "cell_type": "code",
      "source": [],
      "metadata": {
        "id": "WHaQlHYEIf3u"
      },
      "execution_count": null,
      "outputs": []
    }
  ]
}