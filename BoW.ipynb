{
  "cells": [
    {
      "cell_type": "code",
      "execution_count": null,
      "metadata": {
        "colab": {
          "base_uri": "https://localhost:8080/"
        },
        "id": "S_3tqM5rrWYd",
        "outputId": "a6895b5e-c2cb-4f58-9ca0-136f6a3cfe62"
      },
      "outputs": [
        {
          "name": "stdout",
          "output_type": "stream",
          "text": [
            "Looking in indexes: https://pypi.org/simple, https://us-python.pkg.dev/colab-wheels/public/simple/\n",
            "Collecting konlpy\n",
            "  Downloading konlpy-0.6.0-py2.py3-none-any.whl (19.4 MB)\n",
            "\u001b[2K     \u001b[90m━━━━━━━━━━━━━━━━━━━━━━━━━━━━━━━━━━━━━━━━\u001b[0m \u001b[32m19.4/19.4 MB\u001b[0m \u001b[31m61.3 MB/s\u001b[0m eta \u001b[36m0:00:00\u001b[0m\n",
            "\u001b[?25hRequirement already satisfied: lxml>=4.1.0 in /usr/local/lib/python3.10/dist-packages (from konlpy) (4.9.2)\n",
            "Collecting JPype1>=0.7.0\n",
            "  Downloading JPype1-1.4.1-cp310-cp310-manylinux_2_12_x86_64.manylinux2010_x86_64.whl (465 kB)\n",
            "\u001b[2K     \u001b[90m━━━━━━━━━━━━━━━━━━━━━━━━━━━━━━━━━━━━━━\u001b[0m \u001b[32m465.3/465.3 kB\u001b[0m \u001b[31m23.6 MB/s\u001b[0m eta \u001b[36m0:00:00\u001b[0m\n",
            "\u001b[?25hRequirement already satisfied: numpy>=1.6 in /usr/local/lib/python3.10/dist-packages (from konlpy) (1.22.4)\n",
            "Requirement already satisfied: packaging in /usr/local/lib/python3.10/dist-packages (from JPype1>=0.7.0->konlpy) (23.1)\n",
            "Installing collected packages: JPype1, konlpy\n",
            "Successfully installed JPype1-1.4.1 konlpy-0.6.0\n"
          ]
        }
      ],
      "source": [
        "!pip install  konlpy"
      ]
    },
    {
      "cell_type": "code",
      "execution_count": null,
      "metadata": {
        "colab": {
          "base_uri": "https://localhost:8080/"
        },
        "id": "M-I2dcY_rTCg",
        "outputId": "3aa60965-00b5-4738-8d58-271fa362b6e0"
      },
      "outputs": [
        {
          "name": "stdout",
          "output_type": "stream",
          "text": [
            "단어:  {'저': 0, '는': 1, '인공': 2, '지능': 3, '분야': 4, '에': 5, '취업': 6, '할': 7, '계획': 8, '입니다': 9, '은': 10, '재미있습니다': 11, '에서도': 12, '특히': 13, '자연어': 14, '처리': 15, '관심': 16, '이': 17, '있습니다': 18}\n",
            "Bag of Words Vector:  [1, 1, 3, 3, 2, 2, 1, 1, 1, 1, 1, 1, 1, 1, 1, 1, 1, 1, 1]\n"
          ]
        }
      ],
      "source": [
        "# Open-source Korean Text Processor\n",
        "from konlpy.tag import Okt # Open Korean Text\n",
        "\n",
        "okt = Okt()\n",
        "\n",
        "def build_bow(doc):\n",
        "    \n",
        "    # 입력 문장에서 마침표 제거\n",
        "    doc = doc.replace('.', '')\n",
        "\n",
        "    # 형태소 분석으로 문장 토큰화\n",
        "    tokenized_doc = okt.morphs(doc)\n",
        "    \n",
        "    # 단어와 인덱스를 저장할 딕셔너리 생성\n",
        "    word_to_index = {}\n",
        "\n",
        "    # Bag of Words 벡터 생성을 위한 리스트 생성\n",
        "    bow = []\n",
        "\n",
        "    # 마침표 제거되고 토큰화된 단어에 대한 반복 작업\n",
        "    for word in tokenized_doc:\n",
        "        if word not in word_to_index.keys():\n",
        "            # 새로운 단어를 딕셔너리에 추가하고 인덱스를 할당\n",
        "            word_to_index[word] = len(word_to_index)\n",
        "\n",
        "            # 새로운 단어의 출현 횟수인 기본값 1을 bow 리스트 마지막 위치에 추가\n",
        "            bow.insert(len(word_to_index) -1, 1)\n",
        "        else:\n",
        "            # 이미 등장한 단어의 인덱스를 가져온다.\n",
        "            index = word_to_index.get(word)\n",
        "            # 해당 단어의 bow 리스트의 값을 1 증가시킨다.\n",
        "            bow[index] = bow[index] + 1\n",
        "\n",
        "    return word_to_index, bow\n",
        "\n",
        "doc1 = \"저는 인공지능 분야에 취업할 계획입니다. 인공지능은 재미있습니다. 인공지능 분야에서도 특히 자연어 처리에 관심이 있습니다.\"\n",
        "\n",
        "vocab, bow = build_bow(doc1) # word_to_index를 vocab 변수에, bow를 bow 변수에 저장\n",
        "print('단어: ', vocab)\n",
        "print('Bag of Words Vector: ', bow)"
      ]
    },
    {
      "cell_type": "code",
      "execution_count": null,
      "metadata": {
        "id": "RiE0QUgRrmKF"
      },
      "outputs": [],
      "source": []
    }
  ],
  "metadata": {
    "colab": {
      "provenance": []
    },
    "kernelspec": {
      "display_name": "Python 3",
      "name": "python3"
    },
    "language_info": {
      "name": "python"
    }
  },
  "nbformat": 4,
  "nbformat_minor": 0
}
