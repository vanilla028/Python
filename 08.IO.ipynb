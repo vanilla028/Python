{
 "cells": [
  {
   "cell_type": "code",
   "execution_count": 1,
   "id": "78ec3335",
   "metadata": {},
   "outputs": [
    {
     "name": "stdout",
     "output_type": "stream",
     "text": [
      "Hello world!\n"
     ]
    }
   ],
   "source": [
    "print('Hello world!')"
   ]
  },
  {
   "cell_type": "code",
   "execution_count": 2,
   "id": "56dd7c9d",
   "metadata": {},
   "outputs": [],
   "source": [
    "import sys"
   ]
  },
  {
   "cell_type": "code",
   "execution_count": 3,
   "id": "0ec02f6c",
   "metadata": {},
   "outputs": [
    {
     "name": "stderr",
     "output_type": "stream",
     "text": [
      "Welcome to Python\n"
     ]
    }
   ],
   "source": [
    "print('Welcome to', 'Python', file=sys.stderr)"
   ]
  },
  {
   "cell_type": "code",
   "execution_count": 4,
   "id": "1a7fd1ce",
   "metadata": {},
   "outputs": [],
   "source": [
    "#새로운 파일 생성. w는 쓰기 모드\n",
    "f = open('test.txt', 'w')"
   ]
  },
  {
   "cell_type": "code",
   "execution_count": 6,
   "id": "9a636b7d",
   "metadata": {},
   "outputs": [],
   "source": [
    "#open했으면 반드시 close해준다.\n",
    "print('file write', file=f)\n",
    "f.close()"
   ]
  },
  {
   "cell_type": "markdown",
   "id": "2be32496",
   "metadata": {},
   "source": [
    "## File IO\n",
    "file 입출력을 다루다 보면 print를 사용할 수도 있지만 open을 사용하는 게 좋다."
   ]
  },
  {
   "cell_type": "code",
   "execution_count": 9,
   "id": "08a552f2",
   "metadata": {},
   "outputs": [],
   "source": [
    "f = open('test.txt', 'w')\n",
    "f.write('plow deep\\nwhile sluggards sleep') # \\n은 개행문자(줄바꿈)\n",
    "f.close()"
   ]
  },
  {
   "cell_type": "code",
   "execution_count": 11,
   "id": "88ffd92e",
   "metadata": {},
   "outputs": [
    {
     "data": {
      "text/plain": [
       "'plow deep\\nwhile sluggards sleep'"
      ]
     },
     "execution_count": 11,
     "metadata": {},
     "output_type": "execute_result"
    }
   ],
   "source": [
    "#r은 읽기 모드\n",
    "f = open('test.txt', 'r')\n",
    "f.read()"
   ]
  },
  {
   "cell_type": "code",
   "execution_count": 13,
   "id": "4625fead",
   "metadata": {},
   "outputs": [],
   "source": [
    "f.close()"
   ]
  },
  {
   "cell_type": "code",
   "execution_count": null,
   "id": "ac7fb113",
   "metadata": {},
   "outputs": [],
   "source": []
  }
 ],
 "metadata": {
  "kernelspec": {
   "display_name": "Python 3 (ipykernel)",
   "language": "python",
   "name": "python3"
  },
  "language_info": {
   "codemirror_mode": {
    "name": "ipython",
    "version": 3
   },
   "file_extension": ".py",
   "mimetype": "text/x-python",
   "name": "python",
   "nbconvert_exporter": "python",
   "pygments_lexer": "ipython3",
   "version": "3.9.12"
  }
 },
 "nbformat": 4,
 "nbformat_minor": 5
}
