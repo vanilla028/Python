{
 "cells": [
  {
   "cell_type": "code",
   "execution_count": 1,
   "id": "7385b34b",
   "metadata": {},
   "outputs": [
    {
     "name": "stdout",
     "output_type": "stream",
     "text": [
      "a와 b의 값은 같다\n"
     ]
    }
   ],
   "source": [
    "a = 1\n",
    "b = 1\n",
    "\n",
    "if a==b:\n",
    "    print('a와 b의 값은 같다.')\n",
    "\n",
    "if a!=b:\n",
    "    print('a와 b의 값은 같지 않다.')"
   ]
  },
  {
   "cell_type": "code",
   "execution_count": 2,
   "id": "7346532a",
   "metadata": {},
   "outputs": [
    {
     "name": "stdout",
     "output_type": "stream",
     "text": [
      "a와 b의 값은 같다\n"
     ]
    }
   ],
   "source": [
    "a = 1\n",
    "b = 1\n",
    "\n",
    "if a==b:\n",
    "    print('a와 b의 값은 같다.')\n",
    "\n",
    "else:\n",
    "    print('a와 b의 값은 같지 않다.')"
   ]
  },
  {
   "cell_type": "code",
   "execution_count": 3,
   "id": "f23b7ee5",
   "metadata": {},
   "outputs": [
    {
     "name": "stdout",
     "output_type": "stream",
     "text": [
      "a는 b보다 작다.\n"
     ]
    }
   ],
   "source": [
    "a = 1\n",
    "b = 2\n",
    "\n",
    "if a==b:\n",
    "    print('a와 b의 값은 같다.')\n",
    "elif a < b:\n",
    "    print('a는 b보다 작다.')\n",
    "else:\n",
    "    print('a는 b보다 크다.')"
   ]
  },
  {
   "cell_type": "code",
   "execution_count": null,
   "id": "91d5f8c8",
   "metadata": {},
   "outputs": [],
   "source": []
  }
 ],
 "metadata": {
  "kernelspec": {
   "display_name": "Python 3 (ipykernel)",
   "language": "python",
   "name": "python3"
  },
  "language_info": {
   "codemirror_mode": {
    "name": "ipython",
    "version": 3
   },
   "file_extension": ".py",
   "mimetype": "text/x-python",
   "name": "python",
   "nbconvert_exporter": "python",
   "pygments_lexer": "ipython3",
   "version": "3.9.12"
  }
 },
 "nbformat": 4,
 "nbformat_minor": 5
}
