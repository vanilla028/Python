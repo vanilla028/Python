{
 "cells": [
  {
   "cell_type": "code",
   "execution_count": 1,
   "id": "2aa2b139",
   "metadata": {},
   "outputs": [],
   "source": [
    "a = [1, 2, 3]"
   ]
  },
  {
   "cell_type": "code",
   "execution_count": 2,
   "id": "7cff48b0",
   "metadata": {},
   "outputs": [],
   "source": [
    "b = a"
   ]
  },
  {
   "cell_type": "code",
   "execution_count": 3,
   "id": "c3165045",
   "metadata": {},
   "outputs": [
    {
     "name": "stdout",
     "output_type": "stream",
     "text": [
      "[1, 2, 3]\n"
     ]
    }
   ],
   "source": [
    "print(b)"
   ]
  },
  {
   "cell_type": "code",
   "execution_count": 6,
   "id": "5482635d",
   "metadata": {},
   "outputs": [],
   "source": [
    "b[0] = 10"
   ]
  },
  {
   "cell_type": "code",
   "execution_count": 7,
   "id": "ed212dd7",
   "metadata": {},
   "outputs": [
    {
     "data": {
      "text/plain": [
       "[10, 2, 3]"
      ]
     },
     "execution_count": 7,
     "metadata": {},
     "output_type": "execute_result"
    }
   ],
   "source": [
    "b"
   ]
  },
  {
   "cell_type": "code",
   "execution_count": 8,
   "id": "b8bd64a9",
   "metadata": {},
   "outputs": [
    {
     "data": {
      "text/plain": [
       "[10, 2, 3]"
      ]
     },
     "execution_count": 8,
     "metadata": {},
     "output_type": "execute_result"
    }
   ],
   "source": [
    "a"
   ]
  },
  {
   "cell_type": "code",
   "execution_count": 11,
   "id": "b3ceadfd",
   "metadata": {},
   "outputs": [
    {
     "name": "stdout",
     "output_type": "stream",
     "text": [
      "22\n"
     ]
    }
   ],
   "source": [
    "a = 10\n",
    "b = 12\n",
    "c = a + b\n",
    "\n",
    "print(c)"
   ]
  },
  {
   "cell_type": "code",
   "execution_count": 13,
   "id": "e1493d59",
   "metadata": {},
   "outputs": [
    {
     "name": "stdout",
     "output_type": "stream",
     "text": [
      "32\n"
     ]
    }
   ],
   "source": [
    "d = '10'\n",
    "print(c + int(d))"
   ]
  },
  {
   "cell_type": "code",
   "execution_count": 14,
   "id": "6b24fb8f",
   "metadata": {},
   "outputs": [
    {
     "name": "stdout",
     "output_type": "stream",
     "text": [
      "2210\n"
     ]
    }
   ],
   "source": [
    "print(str(c) + d)"
   ]
  },
  {
   "cell_type": "code",
   "execution_count": 15,
   "id": "d3c52ce6",
   "metadata": {},
   "outputs": [
    {
     "name": "stdout",
     "output_type": "stream",
     "text": [
      "13.14\n"
     ]
    }
   ],
   "source": [
    "e = 3.14\n",
    "f = 10\n",
    "\n",
    "print(e + f)"
   ]
  },
  {
   "cell_type": "code",
   "execution_count": 16,
   "id": "bc3fd745",
   "metadata": {},
   "outputs": [
    {
     "name": "stdout",
     "output_type": "stream",
     "text": [
      "13.0\n"
     ]
    }
   ],
   "source": [
    "e = 3.0\n",
    "f = 10\n",
    "print(e + f)"
   ]
  },
  {
   "cell_type": "code",
   "execution_count": 17,
   "id": "2831c82c",
   "metadata": {},
   "outputs": [
    {
     "name": "stdout",
     "output_type": "stream",
     "text": [
      "20.0\n"
     ]
    }
   ],
   "source": [
    "a = 10\n",
    "b = 10\n",
    "c = float(a) + float(b)\n",
    "\n",
    "print(c)"
   ]
  },
  {
   "cell_type": "code",
   "execution_count": 22,
   "id": "696de6c2",
   "metadata": {},
   "outputs": [
    {
     "name": "stdout",
     "output_type": "stream",
     "text": [
      "True\n",
      "False\n",
      "<class 'bool'>\n",
      "<class 'bool'>\n",
      "1\n",
      "0\n",
      "<class 'int'>\n",
      "<class 'int'>\n",
      "True\n",
      "False\n"
     ]
    }
   ],
   "source": [
    "a_bool = True\n",
    "b_bool = False\n",
    "\n",
    "a_int = 1\n",
    "b_int = 0\n",
    "\n",
    "print(a_bool)\n",
    "print(b_bool)\n",
    "print(type(a_bool))\n",
    "print(type(b_bool))\n",
    "print(a_int)\n",
    "print(b_int)\n",
    "print(type(a_int))\n",
    "print(type(b_int))\n",
    "\n",
    "print(bool(a_int))\n",
    "print(bool(b_int))"
   ]
  },
  {
   "cell_type": "code",
   "execution_count": null,
   "id": "805f1d0f",
   "metadata": {},
   "outputs": [],
   "source": []
  }
 ],
 "metadata": {
  "kernelspec": {
   "display_name": "Python 3 (ipykernel)",
   "language": "python",
   "name": "python3"
  },
  "language_info": {
   "codemirror_mode": {
    "name": "ipython",
    "version": 3
   },
   "file_extension": ".py",
   "mimetype": "text/x-python",
   "name": "python",
   "nbconvert_exporter": "python",
   "pygments_lexer": "ipython3",
   "version": "3.9.12"
  }
 },
 "nbformat": 4,
 "nbformat_minor": 5
}
